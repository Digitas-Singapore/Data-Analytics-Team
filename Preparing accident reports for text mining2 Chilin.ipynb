{
  "nbformat": 4,
  "nbformat_minor": 0,
  "metadata": {
    "kernelspec": {
      "display_name": "Python 3",
      "language": "python",
      "name": "python3"
    },
    "language_info": {
      "codemirror_mode": {
        "name": "ipython",
        "version": 3
      },
      "file_extension": ".py",
      "mimetype": "text/x-python",
      "name": "python",
      "nbconvert_exporter": "python",
      "pygments_lexer": "ipython3",
      "version": "3.7.8"
    },
    "colab": {
      "name": "Chilin's Text Mining from Accident Reports.ipynb",
      "provenance": [],
      "collapsed_sections": []
    }
  },
  "cells": [
    {
      "cell_type": "code",
      "metadata": {
        "id": "MEE3zRYnlyjB"
      },
      "source": [
        "# -*- coding: utf-8 -*-\n",
        "\"\"\"\n",
        "Chilin's text analytics practice\n",
        "\"\"\"\n",
        "\n",
        "import pandas  # Package as analysis engine of relational and labeled data with fast, flexible and expressive data structures https://pandas.pydata.org/pandas-docs/stable/getting_started/overview.html\n",
        "import nltk\n",
        "from nltk import word_tokenize, FreqDist, pos_tag, RegexpParser\n",
        "import os\n",
        "import json\n",
        "import string\n",
        "from nltk import word_tokenize, FreqDist, pos_tag\n",
        "from nltk.corpus import stopwords\n"
      ],
      "execution_count": null,
      "outputs": []
    },
    {
      "cell_type": "code",
      "metadata": {
        "colab": {
          "base_uri": "https://localhost:8080/"
        },
        "id": "W1P0y-5-ACsd",
        "outputId": "fb06e84e-0e61-4f63-e0b0-7aacd0cc2969"
      },
      "source": [
        "# load required data for NLTK \n",
        "# Note: on local machine, you just need to run it once only using \"nltk.download()\"\n",
        "#       at the 'NLTK Downloader' dialogue window, choose 'book', then click 'Download'\n",
        "\n",
        "nltk.download('punkt')  #sentence tokenizer\n",
        "nltk.download('stopwords')  #removes common words with little or no meaning\n",
        "nltk.download('wordnet')  #word database of English nouns, adjectives, adverts and verbs\n",
        "nltk.download('averaged_perceptron_tagger')  #Part of speech tagger\n",
        "nltk.download('words') #loading corpora of English words"
      ],
      "execution_count": null,
      "outputs": [
        {
          "output_type": "stream",
          "name": "stdout",
          "text": [
            "[nltk_data] Downloading package punkt to /root/nltk_data...\n",
            "[nltk_data]   Package punkt is already up-to-date!\n",
            "[nltk_data] Downloading package stopwords to /root/nltk_data...\n",
            "[nltk_data]   Package stopwords is already up-to-date!\n",
            "[nltk_data] Downloading package wordnet to /root/nltk_data...\n",
            "[nltk_data]   Package wordnet is already up-to-date!\n",
            "[nltk_data] Downloading package averaged_perceptron_tagger to\n",
            "[nltk_data]     /root/nltk_data...\n",
            "[nltk_data]   Package averaged_perceptron_tagger is already up-to-\n",
            "[nltk_data]       date!\n",
            "[nltk_data] Downloading package words to /root/nltk_data...\n",
            "[nltk_data]   Package words is already up-to-date!\n"
          ]
        },
        {
          "output_type": "execute_result",
          "data": {
            "text/plain": [
              "True"
            ]
          },
          "metadata": {},
          "execution_count": 102
        }
      ]
    },
    {
      "cell_type": "code",
      "metadata": {
        "id": "gXskdcJTlyjC"
      },
      
      # Fetch a single <10MB file using the raw GitHub URL.
      !curl --remote-name \
      -H 'Accept: application/vnd.github.v3.raw' \
      --location https://raw.githubusercontent.com/Digitas-Singapore/Chilin-s-Github-datasets/main/osha.txt
      
      "source": [
        "# Open and read in data from osha.txt\n",
        "data_df  =  pandas.read_csv(\"osha.txt\",delimiter=\"\\t\", header=None) #reads text data into data frame\n",
        "\n",
        "data_title = data_df .iloc[:, 1]  #iloc:  indexing based on integer position - titles from frame 1\n",
        "data_text = data_df .iloc[:, 2]  #iloc:  indexing based on integer position - text body from frame 2\n",
        "\n",
        "wnl = nltk.WordNetLemmatizer()  \n",
        "# Grouping inflected form of a word for analysis.  Unlike stemming, it analyses context of the word.  \n",
        "# Good example being The word \"better\" has \"good\" as its lemma. This link is missed by stemming, as it requires a dictionary look-up.\n",
        "\n",
        "# Getting POS info\n",
        "pos_text = [ pos_tag(word_tokenize(f)) for f in data_text ]\n",
        "pos_title = [ pos_tag(word_tokenize(f)) for f in data_title ]\n",
        "\n",
        "#Construct lemmatized forms of plural words - in lower case as prerequisite for lemmatization\n",
        "def lemmaN(wpos):\n",
        "  nouns = [ (w, pos) for (w, pos) in wpos if pos in ('NN', 'NNS')]  #Assign words to \"nouns\" string if defined as singular or plural nouns\n",
        "  # NN\tnoun, singular 'desk'\n",
        "  # NNS\tnoun plural\t'desks'\n",
        "  lemman = [ wnl.lemmatize(w.lower(), pos = 'n') if pos == 'NNS' else w.lower() for (w, pos) in nouns ]\n",
        "  return lemman\n",
        "\n",
        "nouns = [ lemmaN(pos_tag(word_tokenize(f))) for f in data_text ]\n",
        "# tokenize and lemmatize words indexed in data_text (from data_df)\n",
        "\n",
        "nounsets = [ list(set(f)) for f in nouns]  #creates noun list\n",
        "            "
      ],
      "execution_count": null,
      "outputs": []
    },
    {
      "cell_type": "code",
      "metadata": {
        "id": "HydbR1T7Cend",
        "colab": {
          "base_uri": "https://localhost:8080/"
        },
        "outputId": "b4895259-2610-4b53-a775-c63c565e2701"
      },
      "source": [
        "from google.colab import drive\n",
        "drive.mount('/content/drive')"
      ],
      "execution_count": null,
      "outputs": [
        {
          "output_type": "stream",
          "name": "stdout",
          "text": [
            "Drive already mounted at /content/drive; to attempt to forcibly remount, call drive.mount(\"/content/drive\", force_remount=True).\n"
          ]
        }
      ]
    },
    {
      "cell_type": "code",
      "metadata": {
        "colab": {
          "base_uri": "https://localhost:8080/",
          "height": 422
        },
        "id": "aZnuqC-2lyjD",
        "outputId": "3a7b6a35-3ad7-4c4f-c71e-3bddf91559d2"
      },
      "source": [
        "# View snapshot of records from data frame (title frame 1 and body text 2)\n",
        "\n",
        "data_df\n"
      ],
      "execution_count": null,
      "outputs": [
        {
          "output_type": "execute_result",
          "data": {
            "text/html": [
              "<div>\n",
              "<style scoped>\n",
              "    .dataframe tbody tr th:only-of-type {\n",
              "        vertical-align: middle;\n",
              "    }\n",
              "\n",
              "    .dataframe tbody tr th {\n",
              "        vertical-align: top;\n",
              "    }\n",
              "\n",
              "    .dataframe thead th {\n",
              "        text-align: right;\n",
              "    }\n",
              "</style>\n",
              "<table border=\"1\" class=\"dataframe\">\n",
              "  <thead>\n",
              "    <tr style=\"text-align: right;\">\n",
              "      <th></th>\n",
              "      <th>0</th>\n",
              "      <th>1</th>\n",
              "      <th>2</th>\n",
              "    </tr>\n",
              "  </thead>\n",
              "  <tbody>\n",
              "    <tr>\n",
              "      <th>0</th>\n",
              "      <td>201079928</td>\n",
              "      <td>Employee Is Burned By Forklift Radiator Fluid</td>\n",
              "      <td>At approximately 11:30 a.m. on November 13  2...</td>\n",
              "    </tr>\n",
              "    <tr>\n",
              "      <th>1</th>\n",
              "      <td>202561825</td>\n",
              "      <td>Employee Falls From Flatbed Trailer And Later...</td>\n",
              "      <td>On August 30  2013  Employee #1 was working f...</td>\n",
              "    </tr>\n",
              "    <tr>\n",
              "      <th>2</th>\n",
              "      <td>200361855</td>\n",
              "      <td>Two Workers Are Struck By Motor Vehicle And O...</td>\n",
              "      <td>On August 27  2013  Employees #1 and #2  of T...</td>\n",
              "    </tr>\n",
              "    <tr>\n",
              "      <th>3</th>\n",
              "      <td>200361863</td>\n",
              "      <td>Employee Is Struck By Bales Of Wire And Killed</td>\n",
              "      <td>On August 26  2013  Employee #1  with Lee Iro...</td>\n",
              "    </tr>\n",
              "    <tr>\n",
              "      <th>4</th>\n",
              "      <td>201079324</td>\n",
              "      <td>Employee Is Splashed With Hot Water And Is Bu...</td>\n",
              "      <td>On July 14  2013  Employee #1  vacuum pump tr...</td>\n",
              "    </tr>\n",
              "    <tr>\n",
              "      <th>...</th>\n",
              "      <td>...</td>\n",
              "      <td>...</td>\n",
              "      <td>...</td>\n",
              "    </tr>\n",
              "    <tr>\n",
              "      <th>9995</th>\n",
              "      <td>200994176</td>\n",
              "      <td>Employee Is Killed When Run Over By Hot Metal...</td>\n",
              "      <td>On June 28  2004  Employee #1 was remotely co...</td>\n",
              "    </tr>\n",
              "    <tr>\n",
              "      <th>9996</th>\n",
              "      <td>201144979</td>\n",
              "      <td>Employee Is Injured In Flash Fire</td>\n",
              "      <td>At approximately 9:00 p.m. on April 4  2004  ...</td>\n",
              "    </tr>\n",
              "    <tr>\n",
              "      <th>9997</th>\n",
              "      <td>171110620</td>\n",
              "      <td>Employee Killed When Struck By In</td>\n",
              "      <td>Employee #1 was operating a remote controlled...</td>\n",
              "    </tr>\n",
              "    <tr>\n",
              "      <th>9998</th>\n",
              "      <td>202313342</td>\n",
              "      <td>Employee'S Arm Is Amputated When Caught In Lo...</td>\n",
              "      <td>On September 13  2002  Employee #1 was riding...</td>\n",
              "    </tr>\n",
              "    <tr>\n",
              "      <th>9999</th>\n",
              "      <td>200551752</td>\n",
              "      <td>Employee Killed When Struck By Locomotive</td>\n",
              "      <td>At approximately 6:00 p.m. on March 9  2001  ...</td>\n",
              "    </tr>\n",
              "  </tbody>\n",
              "</table>\n",
              "<p>10000 rows × 3 columns</p>\n",
              "</div>"
            ],
            "text/plain": [
              "              0  ...                                                  2\n",
              "0     201079928  ...   At approximately 11:30 a.m. on November 13  2...\n",
              "1     202561825  ...   On August 30  2013  Employee #1 was working f...\n",
              "2     200361855  ...   On August 27  2013  Employees #1 and #2  of T...\n",
              "3     200361863  ...   On August 26  2013  Employee #1  with Lee Iro...\n",
              "4     201079324  ...   On July 14  2013  Employee #1  vacuum pump tr...\n",
              "...         ...  ...                                                ...\n",
              "9995  200994176  ...   On June 28  2004  Employee #1 was remotely co...\n",
              "9996  201144979  ...   At approximately 9:00 p.m. on April 4  2004  ...\n",
              "9997  171110620  ...   Employee #1 was operating a remote controlled...\n",
              "9998  202313342  ...   On September 13  2002  Employee #1 was riding...\n",
              "9999  200551752  ...   At approximately 6:00 p.m. on March 9  2001  ...\n",
              "\n",
              "[10000 rows x 3 columns]"
            ]
          },
          "metadata": {},
          "execution_count": 106
        }
      ]
    },
    {
      "cell_type": "code",
      "metadata": {
        "colab": {
          "base_uri": "https://localhost:8080/"
        },
        "id": "QCVmotJQpkQ7",
        "outputId": "877e6c9f-4934-4655-fce8-56ca195331ab"
      },
      "source": [
        "#Quality control check for contents in title list and body text lists\n",
        "print(data_title[4]) #Display snapshot of title list\n",
        "print(data_text[4]) #Display snapshot of body text list"
      ],
      "execution_count": null,
      "outputs": [
        {
          "output_type": "stream",
          "name": "stdout",
          "text": [
            " Employee Is Splashed With Hot Water And Is Burned \n",
            " On July 14  2013  Employee #1  vacuum pump truck driver and operator  was  offloading hot brine water at a geothermal power plant. He was assigned to  transfer loads of the brine between power plants and had already made several  trips between facilities. When he arrived at the plant  Employee #1 connected  the hose to the vehicle's tank outlet valve and proceeded to empty the tanks  contents by gravity. While the tank was left emptying  he went inside the  plant's control center briefly to cool off and to get a drink of water.  Employee #1 noticed that the flow of brine had stopped due to a clog in the  hose when he returned. He tried to clear the hose by switching the truck to  vacuum. As he did this  he noticed that the flow was still impeded. Employee  #1 loosened the hose coupler on the truck's valve  which caused hot  pressurized brine to flow out. He attempted to hold the hose  but eventually  let go  causing the hot brine water to splash on his left abdomen  right leg   left leg and left shoulder. Employee #1 rushed into the control room and  removed his hot brine soaked clothing. A coworker observed the pump truck with  the brine pouring out and Employee #1 running toward the control room. This  coworker shut off the valve on the pump truck and went to check on Employee  #1. Employee #1 was taken to a hospital and was then transferred to the burn  unit of a medical center. He was admitted to the medical center  where he was  treated for second and third-degree burns and then hospitalized.                \n"
          ]
        }
      ]
    },
    {
      "cell_type": "code",
      "metadata": {
        "id": "vHX4aB34Jd-0"
      },
      "source": [
        "nouns = [ lemmaN(f) for f in pos_text ]     #Assigns lemmatized nouns from NN and NNS in body text \n",
        "nounsets = [ list(set(f)) for f in nouns ]  #Assigns lemmatized nouns into list nounsets\n",
        "noun_flat = [ c for l in nounsets for c in l ] "
      ],
      "execution_count": null,
      "outputs": []
    },
    {
      "cell_type": "code",
      "metadata": {
        "colab": {
          "base_uri": "https://localhost:8080/"
        },
        "id": "yl28-qy8Kesv",
        "outputId": "81bf31a5-5719-47b1-b850-c90fdeead282"
      },
      "source": [
        "# Counting nouns by document frequency\n",
        "fd_n = FreqDist(noun_flat)\n",
        "fd_n.most_common(50)"
      ],
      "execution_count": null,
      "outputs": [
        {
          "output_type": "execute_result",
          "data": {
            "text/plain": [
              "[('employee', 3623),\n",
              " ('injury', 1986),\n",
              " ('p.m.', 1798),\n",
              " ('hospital', 1783),\n",
              " ('hand', 1672),\n",
              " ('a.m.', 1573),\n",
              " ('foot', 1563),\n",
              " ('day', 1543),\n",
              " ('area', 1504),\n",
              " ('coworker', 1457),\n",
              " ('ground', 1351),\n",
              " ('side', 1235),\n",
              " ('truck', 1164),\n",
              " ('line', 1139),\n",
              " ('burn', 1112),\n",
              " ('accident', 1110),\n",
              " ('time', 1080),\n",
              " ('head', 1066),\n",
              " ('floor', 1064),\n",
              " ('ft', 1046),\n",
              " ('work', 1042),\n",
              " ('machine', 1033),\n",
              " ('finger', 1016),\n",
              " ('employer', 1005),\n",
              " ('treatment', 971),\n",
              " ('fracture', 962),\n",
              " ('operator', 938),\n",
              " ('worker', 882),\n",
              " ('arm', 804),\n",
              " ('building', 778),\n",
              " ('top', 776),\n",
              " ('part', 769),\n",
              " ('company', 764),\n",
              " ('water', 758),\n",
              " ('emergency', 739),\n",
              " ('power', 738),\n",
              " ('site', 725),\n",
              " ('equipment', 715),\n",
              " ('end', 702),\n",
              " ('metal', 693),\n",
              " ('leg', 692),\n",
              " ('service', 678),\n",
              " ('fire', 653),\n",
              " ('system', 648),\n",
              " ('coworkers', 647),\n",
              " ('air', 607),\n",
              " ('operation', 601),\n",
              " ('body', 600),\n",
              " ('face', 578),\n",
              " ('center', 569)]"
            ]
          },
          "metadata": {},
          "execution_count": 109
        }
      ]
    },
    {
      "cell_type": "code",
      "metadata": {
        "colab": {
          "base_uri": "https://localhost:8080/"
        },
        "id": "WjdpYaNjN-x6",
        "outputId": "6763f762-1d91-4cf0-b6c9-ba3fd4b826d8"
      },
      "source": [
        "# Finding number of unique words relating to worker\n",
        "from nltk.corpus import wordnet as wn\n",
        "ssW = wn.synsets('worker')[0]\n",
        "#ssW = wn.synsets('worker')[0]  Assigns worker related words to wn synset\n",
        "hypsW = list(set([w for s in ssW.closure(lambda s:s.hyponyms()) \n",
        "                        for w in s.lemma_names()]))\n",
        "hypsW.sort()\n",
        "len(hypsW)\n",
        "#ssE = wn.synsets('employee')[0]\n",
        "#hypsW = list(set([w for s in ssE.closure(lambda s:s.hyponyms())\n",
        "#                       for w in s.lemma_names()]))\n",
        "#hypsEW = list(set(hypsE + hypsW))"
      ],
      "execution_count": null,
      "outputs": [
        {
          "output_type": "execute_result",
          "data": {
            "text/plain": [
              "1418"
            ]
          },
          "metadata": {},
          "execution_count": 110
        }
      ]
    },
    {
      "cell_type": "code",
      "metadata": {
        "colab": {
          "base_uri": "https://localhost:8080/"
        },
        "id": "ScMog_8Wl5XJ",
        "outputId": "a73eb42b-dffe-4cb0-af17-ae1a11dead03"
      },
      "source": [
        "# Search results of occupations listed in osha accident report, using words from worker wordnet\n",
        "results_occ = [ (w, fd_n[w]) for w in fd_n.keys() if w in hypsW ]\n",
        "sorted_occ = sorted(results_occ, key=lambda x: x[1], reverse=True)\n",
        "sorted_occ[:50]"
      ],
      "execution_count": null,
      "outputs": [
        {
          "output_type": "execute_result",
          "data": {
            "text/plain": [
              "[('employee', 3623),\n",
              " ('hand', 1672),\n",
              " ('driver', 423),\n",
              " ('laborer', 273),\n",
              " ('mechanic', 202),\n",
              " ('paramedic', 178),\n",
              " ('technician', 174),\n",
              " ('conductor', 174),\n",
              " ('help', 169),\n",
              " ('loader', 165),\n",
              " ('jack', 133),\n",
              " ('man', 101),\n",
              " ('electrician', 93),\n",
              " ('carpenter', 89),\n",
              " ('breaker', 89),\n",
              " ('excavator', 84),\n",
              " ('model', 81),\n",
              " ('welder', 79),\n",
              " ('cutter', 75),\n",
              " ('helper', 74),\n",
              " ('grip', 68),\n",
              " ('second', 67),\n",
              " ('assistant', 61),\n",
              " ('officer', 51),\n",
              " ('guide', 47),\n",
              " ('stroke', 46),\n",
              " ('tanker', 42),\n",
              " ('cleaner', 42),\n",
              " ('pilot', 41),\n",
              " ('journeyman', 40),\n",
              " ('washer', 40),\n",
              " ('painter', 36),\n",
              " ('harvester', 31),\n",
              " ('cook', 31),\n",
              " ('collector', 30),\n",
              " ('attendant', 30),\n",
              " ('agent', 30),\n",
              " ('lineman', 29),\n",
              " ('plumber', 28),\n",
              " ('tar', 27),\n",
              " ('roofer', 26),\n",
              " ('clerk', 26),\n",
              " ('trimmer', 25),\n",
              " ('carrier', 25),\n",
              " ('setter', 23),\n",
              " ('spotter', 23),\n",
              " ('gutter', 22),\n",
              " ('caster', 22),\n",
              " ('rigger', 21),\n",
              " ('volunteer', 20)]"
            ]
          },
          "metadata": {},
          "execution_count": 111
        }
      ]
    },
    {
      "cell_type": "code",
      "metadata": {
        "colab": {
          "base_uri": "https://localhost:8080/"
        },
        "id": "ASSww42UtR-Q",
        "outputId": "43be3b9f-d627-4a08-e3cc-e1fa8e4fdbf2"
      },
      "source": [
        "# Finds number of unique words relating to body parts\n",
        "from nltk.corpus import wordnet as wn\n",
        "ssB = wn.synsets('body_part')[0]\n",
        "print(ssB)\n",
        "ssB.hypernyms()\n",
        "#ssB = wn.synsets('body')[0]  Assigns body part related words to wn synset\n",
        "hypsB = list(set([w for s in ssB.closure(lambda s:s.hyponyms()) \n",
        "                        for w in s.lemma_names()]))\n",
        "hypsB.sort()\n",
        "\n",
        "len(hypsB)"
      ],
      "execution_count": null,
      "outputs": [
        {
          "output_type": "stream",
          "name": "stdout",
          "text": [
            "Synset('body_part.n.01')\n"
          ]
        },
        {
          "output_type": "execute_result",
          "data": {
            "text/plain": [
              "3105"
            ]
          },
          "metadata": {},
          "execution_count": 112
        }
      ]
    },
    {
      "cell_type": "code",
      "metadata": {
        "colab": {
          "base_uri": "https://localhost:8080/"
        },
        "id": "IFsluPGXuX-H",
        "outputId": "b7c9c4e2-3e1a-42d2-80dd-85293ac82e1e"
      },
      "source": [
        "# Returns unique words relating to body parts\n",
        "results_bp = [ (w, fd_n[w]) for w in fd_n.keys() if w in hypsB ]\n",
        "sorted_bp = sorted(results_bp, key=lambda x: x[1], reverse=True)\n",
        "sorted_bp[:50]"
      ],
      "execution_count": null,
      "outputs": [
        {
          "output_type": "execute_result",
          "data": {
            "text/plain": [
              "[('hand', 1672),\n",
              " ('foot', 1563),\n",
              " ('area', 1504),\n",
              " ('side', 1235),\n",
              " ('head', 1066),\n",
              " ('finger', 1016),\n",
              " ('arm', 804),\n",
              " ('leg', 692),\n",
              " ('system', 648),\n",
              " ('body', 600),\n",
              " ('face', 578),\n",
              " ('center', 569),\n",
              " ('back', 537),\n",
              " ('bottom', 358),\n",
              " ('contractor', 347),\n",
              " ('process', 334),\n",
              " ('hole', 320),\n",
              " ('right', 310),\n",
              " ('opening', 298),\n",
              " ('index', 296),\n",
              " ('valve', 287),\n",
              " ('neck', 285),\n",
              " ('frame', 281),\n",
              " ('blade', 275),\n",
              " ('chest', 270),\n",
              " ('shoulder', 266),\n",
              " ('pump', 256),\n",
              " ('left', 253),\n",
              " ('tool', 246),\n",
              " ('eye', 228),\n",
              " ('rear', 227),\n",
              " ('plate', 213),\n",
              " ('structure', 203),\n",
              " ('ankle', 202),\n",
              " ('knee', 196),\n",
              " ('thumb', 168),\n",
              " ('shaft', 167),\n",
              " ('wrist', 164),\n",
              " ('pin', 159),\n",
              " ('bone', 157),\n",
              " ('member', 155),\n",
              " ('forearm', 153),\n",
              " ('middle', 152),\n",
              " ('button', 137),\n",
              " ('hip', 136),\n",
              " ('dock', 136),\n",
              " ('bridge', 135),\n",
              " ('seat', 123),\n",
              " ('heart', 119),\n",
              " ('elbow', 114)]"
            ]
          },
          "metadata": {},
          "execution_count": 117
        }
      ]
    },
    {
      "cell_type": "code",
      "metadata": {
        "colab": {
          "base_uri": "https://localhost:8080/"
        },
        "id": "rUBhEjbJlyjG",
        "outputId": "2ec9f874-86bc-4652-9a64-3a161bfb1e51"
      },
      "source": [
        "# A little exploration: What are the unique nouns are there in the osha article set, for body parts? \n",
        "sorted_bp[:30]"
      ],
      "execution_count": null,
      "outputs": [
        {
          "output_type": "execute_result",
          "data": {
            "text/plain": [
              "[('hand', 1672),\n",
              " ('foot', 1563),\n",
              " ('area', 1504),\n",
              " ('side', 1235),\n",
              " ('head', 1066),\n",
              " ('finger', 1016),\n",
              " ('arm', 804),\n",
              " ('leg', 692),\n",
              " ('system', 648),\n",
              " ('body', 600),\n",
              " ('face', 578),\n",
              " ('center', 569),\n",
              " ('back', 537),\n",
              " ('bottom', 358),\n",
              " ('contractor', 347),\n",
              " ('process', 334),\n",
              " ('hole', 320),\n",
              " ('right', 310),\n",
              " ('opening', 298),\n",
              " ('index', 296),\n",
              " ('valve', 287),\n",
              " ('neck', 285),\n",
              " ('frame', 281),\n",
              " ('blade', 275),\n",
              " ('chest', 270),\n",
              " ('shoulder', 266),\n",
              " ('pump', 256),\n",
              " ('left', 253),\n",
              " ('tool', 246),\n",
              " ('eye', 228)]"
            ]
          },
          "metadata": {},
          "execution_count": 118
        }
      ]
    },
    {
      "cell_type": "code",
      "metadata": {
        "colab": {
          "base_uri": "https://localhost:8080/"
        },
        "id": "ms1OIGf22aRY",
        "outputId": "e2ce2598-60e3-40cd-fdcb-e869ee1cc378"
      },
      "source": [
        "#How many unique words for body parts?\n",
        "uniqueB = [ c for l in sorted_bp for c in l ]\n",
        "print(\"No. of unique nouns on body parts: \", len(uniqueB))\n",
        "#  Writing results to txt file\n",
        "with open('risky_occupations.txt', 'w') as filehandle:\n",
        "    filehandle.write('%s\\n' % uniqueB)"
      ],
      "execution_count": null,
      "outputs": [
        {
          "output_type": "stream",
          "name": "stdout",
          "text": [
            "No. of unique nouns on body parts:  656\n"
          ]
        }
      ]
    },
    {
      "cell_type": "code",
      "metadata": {
        "colab": {
          "base_uri": "https://localhost:8080/",
          "height": 359
        },
        "id": "gQUHtzS125rw",
        "outputId": "a011e77c-e262-4bea-9d9f-c06c93841234"
      },
      "source": [
        "# Frequency distribution and plot of unique words for body parts\n",
        "\n",
        "fdB = nltk.FreqDist(uniqueB)\n",
        "print(fdB.most_common(100))\n",
        "fdB.plot(100)"
      ],
      "execution_count": null,
      "outputs": [
        {
          "output_type": "stream",
          "name": "stdout",
          "text": [
            "[(1, 65), (2, 28), (3, 20), (4, 18), (5, 11), (7, 8), (6, 7), (12, 6), (8, 6), (11, 5), (10, 5), (9, 5), (30, 4), (50, 3), (42, 3), (38, 3), (33, 3), (29, 3), (28, 3), (25, 3), (21, 3), (20, 3), (19, 3), (18, 3), (14, 3), (136, 2), (94, 2), (89, 2), (82, 2), (79, 2), (63, 2), (62, 2), (56, 2), (48, 2), (40, 2), (36, 2), (32, 2), (27, 2), (26, 2), (16, 2), (13, 2), ('hand', 1), (1672, 1), ('foot', 1), (1563, 1), ('area', 1), (1504, 1), ('side', 1), (1235, 1), ('head', 1), (1066, 1), ('finger', 1), (1016, 1), ('arm', 1), (804, 1), ('leg', 1), (692, 1), ('system', 1), (648, 1), ('body', 1), (600, 1), ('face', 1), (578, 1), ('center', 1), (569, 1), ('back', 1), (537, 1), ('bottom', 1), (358, 1), ('contractor', 1), (347, 1), ('process', 1), (334, 1), ('hole', 1), (320, 1), ('right', 1), (310, 1), ('opening', 1), (298, 1), ('index', 1), (296, 1), ('valve', 1), (287, 1), ('neck', 1), (285, 1), ('frame', 1), (281, 1), ('blade', 1), (275, 1), ('chest', 1), (270, 1), ('shoulder', 1), (266, 1), ('pump', 1), (256, 1), ('left', 1), (253, 1), ('tool', 1), (246, 1), ('eye', 1)]\n"
          ]
        },
        {
          "output_type": "display_data",
          "data": {
            "image/png": "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\n",
            "text/plain": [
              "<Figure size 432x288 with 1 Axes>"
            ]
          },
          "metadata": {
            "needs_background": "light"
          }
        }
      ]
    },
    {
      "cell_type": "code",
      "metadata": {
        "colab": {
          "base_uri": "https://localhost:8080/"
        },
        "id": "xmaI6iLO1lpA",
        "outputId": "d89d2055-89b3-44b9-ec42-ae3652da09a8"
      },
      "source": [
        "# A little exploration: What are the unique nouns are there in the osha article set, for occupations? \n",
        "sorted_occ[:30]"
      ],
      "execution_count": null,
      "outputs": [
        {
          "output_type": "execute_result",
          "data": {
            "text/plain": [
              "[('employee', 3623),\n",
              " ('hand', 1672),\n",
              " ('driver', 423),\n",
              " ('laborer', 273),\n",
              " ('mechanic', 202),\n",
              " ('paramedic', 178),\n",
              " ('technician', 174),\n",
              " ('conductor', 174),\n",
              " ('help', 169),\n",
              " ('loader', 165),\n",
              " ('jack', 133),\n",
              " ('man', 101),\n",
              " ('electrician', 93),\n",
              " ('carpenter', 89),\n",
              " ('breaker', 89),\n",
              " ('excavator', 84),\n",
              " ('model', 81),\n",
              " ('welder', 79),\n",
              " ('cutter', 75),\n",
              " ('helper', 74),\n",
              " ('grip', 68),\n",
              " ('second', 67),\n",
              " ('assistant', 61),\n",
              " ('officer', 51),\n",
              " ('guide', 47),\n",
              " ('stroke', 46),\n",
              " ('tanker', 42),\n",
              " ('cleaner', 42),\n",
              " ('pilot', 41),\n",
              " ('journeyman', 40)]"
            ]
          },
          "metadata": {},
          "execution_count": 121
        }
      ]
    },
    {
      "cell_type": "code",
      "metadata": {
        "colab": {
          "base_uri": "https://localhost:8080/"
        },
        "id": "hwl5s8D6lyjH",
        "outputId": "6d270198-9646-4754-e118-0c6cdf5b1dc8"
      },
      "source": [
        "#How many unique words for occupations?\n",
        "uniqueOcc = [ c for l in sorted_occ for c in l ]\n",
        "print(\"No. of unique nouns: \", len(uniqueOcc))\n",
        "#Writing results to text file\n",
        "with open('risky_occupations.txt', 'w') as filehandle:\n",
        "    filehandle.write('%s\\n' % uniqueOcc)"
      ],
      "execution_count": null,
      "outputs": [
        {
          "output_type": "stream",
          "name": "stdout",
          "text": [
            "No. of unique nouns:  464\n"
          ]
        }
      ]
    },
    {
      "cell_type": "code",
      "metadata": {
        "colab": {
          "base_uri": "https://localhost:8080/",
          "height": 367
        },
        "id": "GxhMquSw23mK",
        "outputId": "0b5dcdd7-84d3-4050-8da8-13f544c732e2"
      },
      "source": [
        "# Frequency distribution and plot of unique words associated with risky occupations\n",
        "fdOcc = nltk.FreqDist(uniqueOcc)\n",
        "print(fdOcc.most_common(100))\n",
        "fdOcc.plot(100)"
      ],
      "execution_count": null,
      "outputs": [
        {
          "output_type": "stream",
          "name": "stdout",
          "text": [
            "[(1, 59), (2, 32), (3, 23), (7, 10), (4, 10), (5, 7), (8, 6), (13, 5), (6, 5), (10, 4), (9, 4), (30, 3), (18, 3), (17, 3), (16, 3), (15, 3), (12, 3), (174, 2), (89, 2), (42, 2), (40, 2), (31, 2), (26, 2), (25, 2), (23, 2), (22, 2), ('employee', 1), (3623, 1), ('hand', 1), (1672, 1), ('driver', 1), (423, 1), ('laborer', 1), (273, 1), ('mechanic', 1), (202, 1), ('paramedic', 1), (178, 1), ('technician', 1), ('conductor', 1), ('help', 1), (169, 1), ('loader', 1), (165, 1), ('jack', 1), (133, 1), ('man', 1), (101, 1), ('electrician', 1), (93, 1), ('carpenter', 1), ('breaker', 1), ('excavator', 1), (84, 1), ('model', 1), (81, 1), ('welder', 1), (79, 1), ('cutter', 1), (75, 1), ('helper', 1), (74, 1), ('grip', 1), (68, 1), ('second', 1), (67, 1), ('assistant', 1), (61, 1), ('officer', 1), (51, 1), ('guide', 1), (47, 1), ('stroke', 1), (46, 1), ('tanker', 1), ('cleaner', 1), ('pilot', 1), (41, 1), ('journeyman', 1), ('washer', 1), ('painter', 1), (36, 1), ('harvester', 1), ('cook', 1), ('collector', 1), ('attendant', 1), ('agent', 1), ('lineman', 1), (29, 1), ('plumber', 1), (28, 1), ('tar', 1), (27, 1), ('roofer', 1), ('clerk', 1), ('trimmer', 1), ('carrier', 1), ('setter', 1), ('spotter', 1), ('gutter', 1)]\n"
          ]
        },
        {
          "output_type": "display_data",
          "data": {
            "image/png": "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\n",
            "text/plain": [
              "<Figure size 432x288 with 1 Axes>"
            ]
          },
          "metadata": {
            "needs_background": "light"
          }
        }
      ]
    },
    {
      "cell_type": "code",
      "metadata": {
        "colab": {
          "base_uri": "https://localhost:8080/",
          "height": 265
        },
        "id": "_GlzqD-RJqrx",
        "outputId": "8109a6e9-2ffc-4964-f8bc-ef710ceadcdc"
      },
      "source": [
        "#Graphing using a switched axis\n",
        "mostcommon = fdOcc.most_common(100)\n",
        "plt.barh(range(len(mostcommon)),[val[1] for val in mostcommon], align='center')\n",
        "plt.yticks(range(len(mostcommon)), [val[0] for val in mostcommon])\n",
        "plt.show()"
      ],
      "execution_count": null,
      "outputs": [
        {
          "output_type": "display_data",
          "data": {
            "image/png": "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\n",
            "text/plain": [
              "<Figure size 432x288 with 1 Axes>"
            ]
          },
          "metadata": {
            "needs_background": "light"
          }
        }
      ]
    },
    {
      "cell_type": "code",
      "metadata": {
        "colab": {
          "base_uri": "https://localhost:8080/"
        },
        "id": "R8QFvBHslyjK",
        "outputId": "637fc1ce-f70e-4ab5-85cb-ace9585d6a8d"
      },
      "source": [
        "# What about bigrams and trigrams for unique occupations??\n",
        "bigrOcc = nltk.bigrams(uniqueOcc[:10])\n",
        "trigrOcc = nltk.trigrams(uniqueOcc[:10])\n",
        "uniqueOcc[:10]"
      ],
      "execution_count": null,
      "outputs": [
        {
          "output_type": "execute_result",
          "data": {
            "text/plain": [
              "['employee',\n",
              " 3623,\n",
              " 'hand',\n",
              " 1672,\n",
              " 'driver',\n",
              " 423,\n",
              " 'laborer',\n",
              " 273,\n",
              " 'mechanic',\n",
              " 202]"
            ]
          },
          "metadata": {},
          "execution_count": 125
        }
      ]
    },
    {
      "cell_type": "code",
      "metadata": {
        "colab": {
          "base_uri": "https://localhost:8080/"
        },
        "id": "x1cSibDVlyjK",
        "outputId": "f8e15914-c961-473a-b7e0-2839e0336b85"
      },
      "source": [
        "list(bigrOcc)"
      ],
      "execution_count": null,
      "outputs": [
        {
          "output_type": "execute_result",
          "data": {
            "text/plain": [
              "[('employee', 3623),\n",
              " (3623, 'hand'),\n",
              " ('hand', 1672),\n",
              " (1672, 'driver'),\n",
              " ('driver', 423),\n",
              " (423, 'laborer'),\n",
              " ('laborer', 273),\n",
              " (273, 'mechanic'),\n",
              " ('mechanic', 202)]"
            ]
          },
          "metadata": {},
          "execution_count": 126
        }
      ]
    },
    {
      "cell_type": "code",
      "metadata": {
        "colab": {
          "base_uri": "https://localhost:8080/"
        },
        "id": "Fay62qpdlyjL",
        "outputId": "e15411bf-8894-460f-930d-12937b95f99d"
      },
      "source": [
        "list(trigrOcc)"
      ],
      "execution_count": null,
      "outputs": [
        {
          "output_type": "execute_result",
          "data": {
            "text/plain": [
              "[('employee', 3623, 'hand'),\n",
              " (3623, 'hand', 1672),\n",
              " ('hand', 1672, 'driver'),\n",
              " (1672, 'driver', 423),\n",
              " ('driver', 423, 'laborer'),\n",
              " (423, 'laborer', 273),\n",
              " ('laborer', 273, 'mechanic'),\n",
              " (273, 'mechanic', 202)]"
            ]
          },
          "metadata": {},
          "execution_count": 127
        }
      ]
    },
    {
      "cell_type": "code",
      "metadata": {
        "colab": {
          "base_uri": "https://localhost:8080/"
        },
        "id": "BWdRsVNa95b5",
        "outputId": "de47ae3a-b72b-43ed-9a57-bde52e948ba0"
      },
      "source": [
        "# What about bigrams and trigrams for unique body parts?\n",
        "bigrB = nltk.bigrams(uniqueB[:10])\n",
        "trigrB = nltk.trigrams(uniqueB[:10])\n",
        "uniqueB[:10]"
      ],
      "execution_count": null,
      "outputs": [
        {
          "output_type": "execute_result",
          "data": {
            "text/plain": [
              "['hand', 1672, 'foot', 1563, 'area', 1504, 'side', 1235, 'head', 1066]"
            ]
          },
          "metadata": {},
          "execution_count": 128
        }
      ]
    },
    {
      "cell_type": "code",
      "metadata": {
        "colab": {
          "base_uri": "https://localhost:8080/"
        },
        "id": "gbv6MClt-pB2",
        "outputId": "950dc226-3c03-4da2-b56f-18097ca17174"
      },
      "source": [
        "list(bigrB)"
      ],
      "execution_count": null,
      "outputs": [
        {
          "output_type": "execute_result",
          "data": {
            "text/plain": [
              "[('hand', 1672),\n",
              " (1672, 'foot'),\n",
              " ('foot', 1563),\n",
              " (1563, 'area'),\n",
              " ('area', 1504),\n",
              " (1504, 'side'),\n",
              " ('side', 1235),\n",
              " (1235, 'head'),\n",
              " ('head', 1066)]"
            ]
          },
          "metadata": {},
          "execution_count": 129
        }
      ]
    },
    {
      "cell_type": "code",
      "metadata": {
        "colab": {
          "base_uri": "https://localhost:8080/"
        },
        "id": "KS5nvJ_T-o5v",
        "outputId": "c223a56c-0566-4fb5-8955-0e4f83306623"
      },
      "source": [
        "list(trigrB)"
      ],
      "execution_count": null,
      "outputs": [
        {
          "output_type": "execute_result",
          "data": {
            "text/plain": [
              "[('hand', 1672, 'foot'),\n",
              " (1672, 'foot', 1563),\n",
              " ('foot', 1563, 'area'),\n",
              " (1563, 'area', 1504),\n",
              " ('area', 1504, 'side'),\n",
              " (1504, 'side', 1235),\n",
              " ('side', 1235, 'head'),\n",
              " (1235, 'head', 1066)]"
            ]
          },
          "metadata": {},
          "execution_count": 130
        }
      ]
    },
    {
      "cell_type": "code",
      "metadata": {
        "id": "0Tsl0KvYlyjS"
      },
      "source": [
        "# Colab environment already has wordcloud package\n",
        "#!pip install wordcloud"
      ],
      "execution_count": null,
      "outputs": []
    },
    {
      "cell_type": "code",
      "metadata": {
        "id": "4vdmk03WlyjT"
      },
      "source": [
        "#if you have not installed matplotlib, pandas, please also install them\n",
        "# import wordcloud\n",
        "# from wordcloud import WordCloud, ImageColorGenerator\n",
        "# import matplotlib.pyplot as plt\n",
        "# import numpy as np\n",
        "# from PIL import Image"
      ],
      "execution_count": null,
      "outputs": []
    }
  ]
}
